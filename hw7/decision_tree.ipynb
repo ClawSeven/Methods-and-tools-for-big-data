{
 "cells": [
  {
   "cell_type": "code",
   "execution_count": 1,
   "metadata": {},
   "outputs": [],
   "source": [
    "import pandas as pd\n",
    "import numpy as np\n",
    "import matplotlib.pyplot as plt"
   ]
  },
  {
   "cell_type": "code",
   "execution_count": 2,
   "metadata": {},
   "outputs": [],
   "source": [
    "data = pd.read_csv('dt.csv')"
   ]
  },
  {
   "cell_type": "markdown",
   "metadata": {},
   "source": [
    "As there are 7 distinct numbers, there are 6 candidates split points. $[2, 3.5, 4.5, 5.5, 6.5, 7.5]$"
   ]
  },
  {
   "cell_type": "code",
   "execution_count": 3,
   "metadata": {},
   "outputs": [],
   "source": [
    "splits = [2,3.5,4.5,5.5,6.5,7.5]"
   ]
  },
  {
   "cell_type": "code",
   "execution_count": 10,
   "metadata": {},
   "outputs": [],
   "source": [
    "def devide(a3, y, split):\n",
    "    left = 0\n",
    "    lcount = 0\n",
    "    right = 0\n",
    "    rcount = 0\n",
    "    for i, x in enumerate(a3):\n",
    "        if x < split:\n",
    "            left += 1\n",
    "            lcount += y[i]\n",
    "        else:\n",
    "            right += 1\n",
    "            rcount += y[i]\n",
    "    return [lcount/left, rcount/right], left/(left+right)"
   ]
  },
  {
   "cell_type": "code",
   "execution_count": 11,
   "metadata": {},
   "outputs": [],
   "source": [
    "def entropy(p):\n",
    "    if p==1 or p==0:\n",
    "        return 0\n",
    "    else:\n",
    "        return -(1-p) * np.log2(1-p) - p * np.log2(p)"
   ]
  },
  {
   "cell_type": "code",
   "execution_count": 16,
   "metadata": {},
   "outputs": [],
   "source": [
    "def remainder(dat, split):\n",
    "    pm, lp = devide(dat.a3, dat.y, split)\n",
    "    return lp * entropy(pm[0]) + (1-lp) * entropy(pm[1])"
   ]
  },
  {
   "cell_type": "code",
   "execution_count": 33,
   "metadata": {},
   "outputs": [],
   "source": [
    "num = len(data.y)\n",
    "p1 = sum(data.y==1)/num\n",
    "f0 = -(1-p1) * np.log2(1-p1) - p1 * np.log2(p1)"
   ]
  },
  {
   "cell_type": "code",
   "execution_count": 40,
   "metadata": {
    "scrolled": true
   },
   "outputs": [
    {
     "name": "stdout",
     "output_type": "stream",
     "text": [
      "2 0.85 0.1427\n",
      "3.5 0.99 0.0026\n",
      "4.5 0.92 0.0728\n",
      "5.5 0.98 0.0072\n",
      "6.5 0.97 0.0183\n",
      "7.5 0.89 0.1022\n"
     ]
    }
   ],
   "source": [
    "rem = []\n",
    "for sp in splits:\n",
    "    tmp = remainder(data, sp)\n",
    "    rem.append(tmp)\n",
    "    print(sp, \"{:.2f}\".format(tmp), \"{:.4f}\".format(f0 - tmp))"
   ]
  },
  {
   "cell_type": "code",
   "execution_count": 46,
   "metadata": {},
   "outputs": [],
   "source": [
    "# binary division for a1, a2\n",
    "def bin_div(a12, y):\n",
    "    false = 0\n",
    "    fcount = 0\n",
    "    true = 0\n",
    "    tcount = 0\n",
    "    for i, x in enumerate(a12):\n",
    "        if x:\n",
    "            true += 1\n",
    "            tcount += y[i]\n",
    "        else:\n",
    "            false += 1\n",
    "            fcount += y[i]   # count y that is T\n",
    "    return tcount/true, fcount/false, true/(true+false)"
   ]
  },
  {
   "cell_type": "code",
   "execution_count": 48,
   "metadata": {},
   "outputs": [
    {
     "name": "stdout",
     "output_type": "stream",
     "text": [
      "7.5 0.76 0.2294\n"
     ]
    }
   ],
   "source": [
    "t1, f1, pt1 = bin_div(data.a1, data.y)\n",
    "rem1 = pt1 * entropy(t1) + (1-pt1) * entropy(f1)\n",
    "print(sp, \"{:.2f}\".format(rem1), \"{:.4f}\".format(f0 - rem1))"
   ]
  },
  {
   "cell_type": "code",
   "execution_count": 49,
   "metadata": {},
   "outputs": [
    {
     "name": "stdout",
     "output_type": "stream",
     "text": [
      "7.5 0.98 0.0072\n"
     ]
    }
   ],
   "source": [
    "t2, f2, pt2 = bin_div(data.a2, data.y)\n",
    "rem2 = pt2 * entropy(t2) + (1-pt2) * entropy(f2)\n",
    "print(sp, \"{:.2f}\".format(rem2), \"{:.4f}\".format(f0 - rem2))"
   ]
  },
  {
   "cell_type": "code",
   "execution_count": 50,
   "metadata": {},
   "outputs": [
    {
     "data": {
      "text/plain": [
       "0.75"
      ]
     },
     "execution_count": 50,
     "metadata": {},
     "output_type": "execute_result"
    }
   ],
   "source": [
    "t1"
   ]
  },
  {
   "cell_type": "code",
   "execution_count": 51,
   "metadata": {},
   "outputs": [
    {
     "data": {
      "text/plain": [
       "0.20000000000000001"
      ]
     },
     "execution_count": 51,
     "metadata": {},
     "output_type": "execute_result"
    }
   ],
   "source": [
    "f1"
   ]
  },
  {
   "cell_type": "code",
   "execution_count": 52,
   "metadata": {},
   "outputs": [
    {
     "data": {
      "text/html": [
       "<div>\n",
       "<style scoped>\n",
       "    .dataframe tbody tr th:only-of-type {\n",
       "        vertical-align: middle;\n",
       "    }\n",
       "\n",
       "    .dataframe tbody tr th {\n",
       "        vertical-align: top;\n",
       "    }\n",
       "\n",
       "    .dataframe thead th {\n",
       "        text-align: right;\n",
       "    }\n",
       "</style>\n",
       "<table border=\"1\" class=\"dataframe\">\n",
       "  <thead>\n",
       "    <tr style=\"text-align: right;\">\n",
       "      <th></th>\n",
       "      <th>a1</th>\n",
       "      <th>a2</th>\n",
       "      <th>a3</th>\n",
       "      <th>y</th>\n",
       "    </tr>\n",
       "  </thead>\n",
       "  <tbody>\n",
       "    <tr>\n",
       "      <th>0</th>\n",
       "      <td>1</td>\n",
       "      <td>1</td>\n",
       "      <td>1</td>\n",
       "      <td>1</td>\n",
       "    </tr>\n",
       "    <tr>\n",
       "      <th>1</th>\n",
       "      <td>1</td>\n",
       "      <td>1</td>\n",
       "      <td>6</td>\n",
       "      <td>1</td>\n",
       "    </tr>\n",
       "    <tr>\n",
       "      <th>2</th>\n",
       "      <td>1</td>\n",
       "      <td>0</td>\n",
       "      <td>5</td>\n",
       "      <td>0</td>\n",
       "    </tr>\n",
       "    <tr>\n",
       "      <th>3</th>\n",
       "      <td>0</td>\n",
       "      <td>0</td>\n",
       "      <td>4</td>\n",
       "      <td>1</td>\n",
       "    </tr>\n",
       "    <tr>\n",
       "      <th>4</th>\n",
       "      <td>0</td>\n",
       "      <td>1</td>\n",
       "      <td>7</td>\n",
       "      <td>0</td>\n",
       "    </tr>\n",
       "    <tr>\n",
       "      <th>5</th>\n",
       "      <td>0</td>\n",
       "      <td>1</td>\n",
       "      <td>3</td>\n",
       "      <td>0</td>\n",
       "    </tr>\n",
       "    <tr>\n",
       "      <th>6</th>\n",
       "      <td>0</td>\n",
       "      <td>0</td>\n",
       "      <td>8</td>\n",
       "      <td>0</td>\n",
       "    </tr>\n",
       "    <tr>\n",
       "      <th>7</th>\n",
       "      <td>1</td>\n",
       "      <td>0</td>\n",
       "      <td>7</td>\n",
       "      <td>1</td>\n",
       "    </tr>\n",
       "    <tr>\n",
       "      <th>8</th>\n",
       "      <td>0</td>\n",
       "      <td>1</td>\n",
       "      <td>5</td>\n",
       "      <td>0</td>\n",
       "    </tr>\n",
       "  </tbody>\n",
       "</table>\n",
       "</div>"
      ],
      "text/plain": [
       "   a1  a2  a3  y\n",
       "0   1   1   1  1\n",
       "1   1   1   6  1\n",
       "2   1   0   5  0\n",
       "3   0   0   4  1\n",
       "4   0   1   7  0\n",
       "5   0   1   3  0\n",
       "6   0   0   8  0\n",
       "7   1   0   7  1\n",
       "8   0   1   5  0"
      ]
     },
     "execution_count": 52,
     "metadata": {},
     "output_type": "execute_result"
    }
   ],
   "source": [
    "data"
   ]
  },
  {
   "cell_type": "code",
   "execution_count": null,
   "metadata": {},
   "outputs": [],
   "source": []
  }
 ],
 "metadata": {
  "kernelspec": {
   "display_name": "Python [conda root]",
   "language": "python",
   "name": "conda-root-py"
  },
  "language_info": {
   "codemirror_mode": {
    "name": "ipython",
    "version": 3
   },
   "file_extension": ".py",
   "mimetype": "text/x-python",
   "name": "python",
   "nbconvert_exporter": "python",
   "pygments_lexer": "ipython3",
   "version": "3.6.5"
  }
 },
 "nbformat": 4,
 "nbformat_minor": 2
}
